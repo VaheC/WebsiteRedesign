{
 "cells": [
  {
   "cell_type": "markdown",
   "id": "9a9ada08-c9f0-466f-91a0-265fa539f9f5",
   "metadata": {},
   "source": [
    "## 📖 Introduction\n",
    "Our team has been working on a redesign of the landing page for an early-stage startup in Germany. We believe that a new design will increase the number of people who click through and join the startup's site. \n",
    "\n",
    "We have been testing the changes for a few weeks and this notebook is devoted to measuring their impact. We will try to quantify the change in the number of signed-up visitors and determine whether it is random or not."
   ]
  },
  {
   "cell_type": "markdown",
   "id": "10dcc269-3659-4851-99cd-f1ffb7f818aa",
   "metadata": {
    "tags": []
   },
   "source": [
    "## 💾 The data\n",
    "We have assembled the following info:\n",
    "- \"treatment\" - \"yes\" if the user saw the new version of the landing page, no otherwise.\n",
    "- \"new_images\" - \"yes\" if the page used a new set of images, no otherwise.\n",
    "- \"converted\" - 1 if the user joined the site, 0 otherwise.\n",
    "\n",
    "The control group is those users with \"no\" in both columns: the old version with the old set of images."
   ]
  },
  {
   "cell_type": "markdown",
   "id": "3e685aec-b087-4a4e-ba23-e3d7cfb84113",
   "metadata": {},
   "source": [
    "The first step, as in any datascience project, is to load necessary tools (packages), which is done below."
   ]
  },
  {
   "cell_type": "code",
   "execution_count": null,
   "id": "b6c70248-cbf3-4d27-9daa-8653bf81a775",
   "metadata": {},
   "outputs": [],
   "source": [
    "import pandas as pd\n",
    "import matplotlib.pyplot as plt"
   ]
  },
  {
   "cell_type": "markdown",
   "id": "c451d541-5f20-40da-a435-46971437eb4f",
   "metadata": {},
   "source": [
    "Now we are ready to load the data and explore it."
   ]
  },
  {
   "cell_type": "code",
   "execution_count": null,
   "id": "40251159-3eea-47f8-bfb4-09e38d5ced65",
   "metadata": {},
   "outputs": [
    {
     "data": {
      "text/html": [
       "<div>\n",
       "<style scoped>\n",
       "    .dataframe tbody tr th:only-of-type {\n",
       "        vertical-align: middle;\n",
       "    }\n",
       "\n",
       "    .dataframe tbody tr th {\n",
       "        vertical-align: top;\n",
       "    }\n",
       "\n",
       "    .dataframe thead th {\n",
       "        text-align: right;\n",
       "    }\n",
       "</style>\n",
       "<table border=\"1\" class=\"dataframe\">\n",
       "  <thead>\n",
       "    <tr style=\"text-align: right;\">\n",
       "      <th></th>\n",
       "      <th>treatment</th>\n",
       "      <th>new_images</th>\n",
       "      <th>converted</th>\n",
       "    </tr>\n",
       "  </thead>\n",
       "  <tbody>\n",
       "    <tr>\n",
       "      <th>0</th>\n",
       "      <td>yes</td>\n",
       "      <td>yes</td>\n",
       "      <td>0</td>\n",
       "    </tr>\n",
       "    <tr>\n",
       "      <th>1</th>\n",
       "      <td>yes</td>\n",
       "      <td>yes</td>\n",
       "      <td>0</td>\n",
       "    </tr>\n",
       "    <tr>\n",
       "      <th>2</th>\n",
       "      <td>yes</td>\n",
       "      <td>yes</td>\n",
       "      <td>0</td>\n",
       "    </tr>\n",
       "    <tr>\n",
       "      <th>3</th>\n",
       "      <td>yes</td>\n",
       "      <td>no</td>\n",
       "      <td>0</td>\n",
       "    </tr>\n",
       "    <tr>\n",
       "      <th>4</th>\n",
       "      <td>no</td>\n",
       "      <td>yes</td>\n",
       "      <td>0</td>\n",
       "    </tr>\n",
       "  </tbody>\n",
       "</table>\n",
       "</div>"
      ],
      "text/plain": [
       "  treatment new_images  converted\n",
       "0       yes        yes          0\n",
       "1       yes        yes          0\n",
       "2       yes        yes          0\n",
       "3       yes         no          0\n",
       "4        no        yes          0"
      ]
     },
     "execution_count": 2,
     "metadata": {},
     "output_type": "execute_result"
    }
   ],
   "source": [
    "df = pd.read_csv('./data/redesign.csv')\n",
    "df.head()"
   ]
  },
  {
   "cell_type": "code",
   "execution_count": null,
   "id": "d131692f-29b7-4f5b-9ff2-5ef8847117d0",
   "metadata": {},
   "outputs": [
    {
     "name": "stdout",
     "output_type": "stream",
     "text": [
      "<class 'pandas.core.frame.DataFrame'>\n",
      "RangeIndex: 40484 entries, 0 to 40483\n",
      "Data columns (total 3 columns):\n",
      " #   Column      Non-Null Count  Dtype \n",
      "---  ------      --------------  ----- \n",
      " 0   treatment   40484 non-null  object\n",
      " 1   new_images  40484 non-null  object\n",
      " 2   converted   40484 non-null  int64 \n",
      "dtypes: int64(1), object(2)\n",
      "memory usage: 949.0+ KB\n"
     ]
    }
   ],
   "source": [
    "df.info()"
   ]
  },
  {
   "cell_type": "markdown",
   "id": "c3b04748-e6b1-4e80-b19d-97f492fb621d",
   "metadata": {},
   "source": [
    "The info above shows that there are not any misssing observations in the data and we have 40484 of them in total. Let's observe the number of visitors exposed to old and new design. The table below shows that the numbers are the same. So the data is not overbalanced."
   ]
  },
  {
   "cell_type": "code",
   "execution_count": null,
   "id": "3148f430-f207-476c-aefc-49a111d46687",
   "metadata": {},
   "outputs": [
    {
     "data": {
      "text/html": [
       "<div>\n",
       "<style scoped>\n",
       "    .dataframe tbody tr th:only-of-type {\n",
       "        vertical-align: middle;\n",
       "    }\n",
       "\n",
       "    .dataframe tbody tr th {\n",
       "        vertical-align: top;\n",
       "    }\n",
       "\n",
       "    .dataframe thead th {\n",
       "        text-align: right;\n",
       "    }\n",
       "</style>\n",
       "<table border=\"1\" class=\"dataframe\">\n",
       "  <thead>\n",
       "    <tr style=\"text-align: right;\">\n",
       "      <th></th>\n",
       "      <th>Visitors</th>\n",
       "    </tr>\n",
       "  </thead>\n",
       "  <tbody>\n",
       "    <tr>\n",
       "      <th>no</th>\n",
       "      <td>20242</td>\n",
       "    </tr>\n",
       "    <tr>\n",
       "      <th>yes</th>\n",
       "      <td>20242</td>\n",
       "    </tr>\n",
       "  </tbody>\n",
       "</table>\n",
       "</div>"
      ],
      "text/plain": [
       "     Visitors\n",
       "no      20242\n",
       "yes     20242"
      ]
     },
     "execution_count": 4,
     "metadata": {},
     "output_type": "execute_result"
    }
   ],
   "source": [
    "all_df = df['treatment'].value_counts()\n",
    "all_df.name = 'Visitors'\n",
    "all_df.to_frame()"
   ]
  },
  {
   "cell_type": "markdown",
   "id": "06412ddc-7d43-4d6f-bc83-2deabe3e19ee",
   "metadata": {},
   "source": [
    "As we know from the data description, there are 4 groups. One is the control group (visitors of the site without any changes) and the others are treatment groups. The table below shows the data distribution by those groups. Again we see that we don't have overbalancing issue here: each group contains the same amount of visitors."
   ]
  },
  {
   "cell_type": "code",
   "execution_count": null,
   "id": "cd83279f-c043-49e6-973e-7f2d2d8a0b4f",
   "metadata": {},
   "outputs": [
    {
     "data": {
      "text/html": [
       "<div>\n",
       "<style scoped>\n",
       "    .dataframe tbody tr th:only-of-type {\n",
       "        vertical-align: middle;\n",
       "    }\n",
       "\n",
       "    .dataframe tbody tr th {\n",
       "        vertical-align: top;\n",
       "    }\n",
       "\n",
       "    .dataframe thead th {\n",
       "        text-align: right;\n",
       "    }\n",
       "</style>\n",
       "<table border=\"1\" class=\"dataframe\">\n",
       "  <thead>\n",
       "    <tr style=\"text-align: right;\">\n",
       "      <th></th>\n",
       "      <th></th>\n",
       "      <th>Visitors</th>\n",
       "    </tr>\n",
       "    <tr>\n",
       "      <th>treatment</th>\n",
       "      <th>new_images</th>\n",
       "      <th></th>\n",
       "    </tr>\n",
       "  </thead>\n",
       "  <tbody>\n",
       "    <tr>\n",
       "      <th rowspan=\"2\" valign=\"top\">no</th>\n",
       "      <th>no</th>\n",
       "      <td>10121</td>\n",
       "    </tr>\n",
       "    <tr>\n",
       "      <th>yes</th>\n",
       "      <td>10121</td>\n",
       "    </tr>\n",
       "    <tr>\n",
       "      <th rowspan=\"2\" valign=\"top\">yes</th>\n",
       "      <th>no</th>\n",
       "      <td>10121</td>\n",
       "    </tr>\n",
       "    <tr>\n",
       "      <th>yes</th>\n",
       "      <td>10121</td>\n",
       "    </tr>\n",
       "  </tbody>\n",
       "</table>\n",
       "</div>"
      ],
      "text/plain": [
       "                      Visitors\n",
       "treatment new_images          \n",
       "no        no             10121\n",
       "          yes            10121\n",
       "yes       no             10121\n",
       "          yes            10121"
      ]
     },
     "execution_count": 5,
     "metadata": {},
     "output_type": "execute_result"
    }
   ],
   "source": [
    "group_df = df.groupby(['treatment', 'new_images'])['treatment'].count()\n",
    "group_df.name = 'Visitors'\n",
    "group_df.to_frame()"
   ]
  },
  {
   "cell_type": "markdown",
   "id": "856c3b98-6161-44df-b70f-12beec3d095c",
   "metadata": {},
   "source": [
    "Now we can move on and derive the conversion rates for each of the four groups. The table below shows that the rate is the lowest for the control group. Moreover the highest conversion rate is observed for redesigned site with old images."
   ]
  },
  {
   "cell_type": "code",
   "execution_count": null,
   "id": "d9549b50-9b72-4f12-a088-0d78a99bace4",
   "metadata": {},
   "outputs": [
    {
     "data": {
      "text/html": [
       "<div>\n",
       "<style scoped>\n",
       "    .dataframe tbody tr th:only-of-type {\n",
       "        vertical-align: middle;\n",
       "    }\n",
       "\n",
       "    .dataframe tbody tr th {\n",
       "        vertical-align: top;\n",
       "    }\n",
       "\n",
       "    .dataframe thead th {\n",
       "        text-align: right;\n",
       "    }\n",
       "</style>\n",
       "<table border=\"1\" class=\"dataframe\">\n",
       "  <thead>\n",
       "    <tr style=\"text-align: right;\">\n",
       "      <th></th>\n",
       "      <th></th>\n",
       "      <th>Conversion rate, %</th>\n",
       "    </tr>\n",
       "    <tr>\n",
       "      <th>treatment</th>\n",
       "      <th>new_images</th>\n",
       "      <th></th>\n",
       "    </tr>\n",
       "  </thead>\n",
       "  <tbody>\n",
       "    <tr>\n",
       "      <th rowspan=\"2\" valign=\"top\">no</th>\n",
       "      <th>no</th>\n",
       "      <td>10.710404</td>\n",
       "    </tr>\n",
       "    <tr>\n",
       "      <th>yes</th>\n",
       "      <td>11.253829</td>\n",
       "    </tr>\n",
       "    <tr>\n",
       "      <th rowspan=\"2\" valign=\"top\">yes</th>\n",
       "      <th>no</th>\n",
       "      <td>12.004743</td>\n",
       "    </tr>\n",
       "    <tr>\n",
       "      <th>yes</th>\n",
       "      <td>11.372394</td>\n",
       "    </tr>\n",
       "  </tbody>\n",
       "</table>\n",
       "</div>"
      ],
      "text/plain": [
       "                      Conversion rate, %\n",
       "treatment new_images                    \n",
       "no        no                   10.710404\n",
       "          yes                  11.253829\n",
       "yes       no                   12.004743\n",
       "          yes                  11.372394"
      ]
     },
     "execution_count": 6,
     "metadata": {},
     "output_type": "execute_result"
    }
   ],
   "source": [
    "conversion_rates = 100 * df.groupby(['treatment', 'new_images'])['converted'].mean()\n",
    "conversion_rates.name = 'Conversion rate, %'\n",
    "conversion_rates.to_frame()"
   ]
  },
  {
   "cell_type": "markdown",
   "id": "adf98215-10ad-4d9d-b429-e6e82b399406",
   "metadata": {},
   "source": [
    "So, are the results random ? We will try to answer to this question by separating the cases. Specifically, we compare the control group to the 3 treatment groups."
   ]
  },
  {
   "cell_type": "markdown",
   "id": "8f113208-dff6-4273-a11b-022cd8d219d2",
   "metadata": {},
   "source": [
    "## Control vs treatment (visitors of redesigned site with old images)\n",
    "\n",
    "Null hypothesiis is that the observed difference in the conversion rates is a product of a random chance. Namely, there is no difference at all. The null hypothesis will be the same for the rest of the cases too. Considering the null hypothesis we can generate simulated datasets and calculate p-value. P-value shows fraction of the simulated datasets for which we observe the conversion difference at least as extreme as in real data.\n",
    "<br> The histogram below shows the distribution of the conversion rates' differences in %. The red line represents the real observed difference. Corresponding p-value is reported above the chart. So p-value is about 0.5. This means that we can't reject the null hypothesis at 1, 5, or 10 % significance levels."
   ]
  },
  {
   "cell_type": "code",
   "execution_count": null,
   "id": "e3334c01-a789-43c1-a791-695a5b2c72b3",
   "metadata": {},
   "outputs": [
    {
     "data": {
      "image/png": "[encoded data removed]",
      "text/plain": [
       "<Figure size 432x288 with 1 Axes>"
      ]
     },
     "metadata": {
      "needs_background": "light"
     },
     "output_type": "display_data"
    }
   ],
   "source": [
    "diff_list = []\n",
    "for i in range(10000):\n",
    "\ttemp_df = df[df['new_images']=='no'].sample(frac=1, replace=True)\n",
    "\tconversion_control = 100*temp_df[temp_df['treatment']=='no']['converted'].mean()\n",
    "\tconversion_treatment = 100*temp_df[temp_df['treatment']=='yes']['converted'].mean()\n",
    "\ttemp_diff = conversion_treatment - conversion_control\n",
    "\tdiff_list.append(temp_diff)\n",
    "    \n",
    "temp_df = df[df['new_images']=='no']\n",
    "conversion_control = 100*temp_df[temp_df['treatment']=='no']['converted'].mean()\n",
    "conversion_treatment = 100*temp_df[temp_df['treatment']=='yes']['converted'].mean()\n",
    "real_diff = conversion_treatment - conversion_control\n",
    "\n",
    "p_value = sum([1 if diff>=real_diff else 0 for diff in diff_list]) / len(diff_list)\n",
    "\n",
    "plt.hist(diff_list)\n",
    "plt.axvline(real_diff, color='red')\n",
    "plt.xlabel('conversion rate difference, %')\n",
    "plt.title(f\"p_value = {p_value}\")\n",
    "plt.show()"
   ]
  },
  {
   "cell_type": "markdown",
   "id": "1c9f16b1-3696-49b2-a0cf-7da767911dac",
   "metadata": {},
   "source": [
    "## Control vs treatment (visitors of unchanged site with new images)\n",
    "As we mentioned above the hypothesis is the same. We also follow almost the same steps to analyze the results. Again the histogram below shows the distribution of the conversion rates' differences in %. The red line represents the real observed difference. Corresponding p-value is reported above the chart. So p-value is about 0.5. This means that we can't reject the null hypothesis at 1, 5, or 10 % significance levels."
   ]
  },
  {
   "cell_type": "code",
   "execution_count": null,
   "id": "dd555966-1f1b-474f-9b7a-1db566c3e599",
   "metadata": {},
   "outputs": [
    {
     "data": {
      "image/png": "[encoded data removed]",
      "text/plain": [
       "<Figure size 432x288 with 1 Axes>"
      ]
     },
     "metadata": {
      "needs_background": "light"
     },
     "output_type": "display_data"
    }
   ],
   "source": [
    "diff_list = []\n",
    "for i in range(10000):\n",
    "\ttemp_df = df[df['treatment']=='no'].sample(frac=1, replace=True)\n",
    "\tconversion_control = 100*temp_df[temp_df['new_images']=='no']['converted'].mean()\n",
    "\tconversion_treatment = 100*temp_df[temp_df['new_images']=='yes']['converted'].mean()\n",
    "\ttemp_diff = conversion_treatment - conversion_control\n",
    "\tdiff_list.append(temp_diff)\n",
    "    \n",
    "temp_df = df[df['treatment']=='no']\n",
    "conversion_control = 100*temp_df[temp_df['new_images']=='no']['converted'].mean()\n",
    "conversion_treatment = 100*temp_df[temp_df['new_images']=='yes']['converted'].mean()\n",
    "real_diff = conversion_treatment - conversion_control\n",
    "\n",
    "p_value = sum([1 if diff>=real_diff else 0 for diff in diff_list]) / len(diff_list)\n",
    "\n",
    "plt.hist(diff_list)\n",
    "plt.axvline(real_diff, color='red')\n",
    "plt.xlabel('conversion rate difference, %')\n",
    "plt.title(f\"p_value = {p_value}\")\n",
    "plt.show()"
   ]
  },
  {
   "cell_type": "markdown",
   "id": "fa910017-8672-45fe-ac3d-c93212d6ec70",
   "metadata": {},
   "source": [
    "## Control vs treatment (visitors of redesigned site with new images)\n",
    "Again the histogram below shows the distribution of the conversion rates' differences in %. The red line represents the real observed difference. Corresponding p-value is reported above the chart. So p-value is about 0.5. This means that we can't reject the null hypothesis at 1, 5, or 10 % significance levels."
   ]
  },
  {
   "cell_type": "code",
   "execution_count": null,
   "id": "2943a272-e1ed-4c9a-869b-1dac47f35eac",
   "metadata": {},
   "outputs": [
    {
     "data": {
      "image/png": "[encoded data removed]",
      "text/plain": [
       "<Figure size 432x288 with 1 Axes>"
      ]
     },
     "metadata": {
      "needs_background": "light"
     },
     "output_type": "display_data"
    }
   ],
   "source": [
    "df_control = df[(df['treatment']=='no') & (df['new_images']=='no')]\n",
    "df_treatment = df[(df['treatment']=='yes') & (df['new_images']=='yes')]\n",
    "df_total = pd.concat([df_control, df_treatment], axis=0)\n",
    "\n",
    "diff_list = []\n",
    "for i in range(10000):\n",
    "\ttemp_df = df_total.sample(frac=1, replace=True)\n",
    "\tconversion_control = 100*temp_df[(temp_df['treatment']=='no') &\n",
    "                                     (temp_df['new_images']=='no')]['converted'].mean()\n",
    "\tconversion_treatment = 100*temp_df[(temp_df['treatment']=='yes') &\n",
    "                                       (temp_df['new_images']=='yes')]['converted'].mean()\n",
    "\ttemp_diff = conversion_treatment - conversion_control\n",
    "\tdiff_list.append(temp_diff)\n",
    "    \n",
    "conversion_control = 100*df_total[(df_total['treatment']=='no') & \n",
    "                                  (df_total['new_images']=='no')]['converted'].mean()\n",
    "conversion_treatment = 100*df_total[(df_total['treatment']=='yes') & \n",
    "                                    (df_total['new_images']=='yes')]['converted'].mean()\n",
    "real_diff = conversion_treatment - conversion_control\n",
    "\n",
    "p_value = sum([1 if diff>=real_diff else 0 for diff in diff_list]) / len(diff_list)\n",
    "\n",
    "plt.hist(diff_list)\n",
    "plt.axvline(real_diff, color='red')\n",
    "plt.xlabel('conversion rate difference, %')\n",
    "plt.title(f\"p_value = {p_value}\")\n",
    "plt.show()"
   ]
  },
  {
   "cell_type": "markdown",
   "id": "6a57b6a8-f05c-46ab-a650-be004b51484a",
   "metadata": {},
   "source": [
    "## Conclusion\n",
    "After testing the null hypothesis for all the cases, we can conclude that the observed differences have happened by chance. Therefore it is better to keep the site as it is or incorporate and test some new ideas."
   ]
  },
  {
   "cell_type": "code",
   "execution_count": null,
   "id": "61d09a65-7a7f-43de-951b-decb042f5bd0",
   "metadata": {},
   "outputs": [],
   "source": []
  }
 ],
 "metadata": {
  "kernelspec": {
   "display_name": "Python 3 (ipykernel)",
   "language": "python",
   "name": "python3"
  },
  "language_info": {
   "codemirror_mode": {
    "name": "ipython",
    "version": 3
   },
   "file_extension": ".py",
   "mimetype": "text/x-python",
   "name": "python",
   "nbconvert_exporter": "python",
   "pygments_lexer": "ipython3",
   "version": "3.8.10"
  }
 },
 "nbformat": 4,
 "nbformat_minor": 5
}
